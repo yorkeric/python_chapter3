{
 "cells": [
  {
   "cell_type": "markdown",
   "id": "912f2c66",
   "metadata": {},
   "source": [
    "## Chapter 3 - Exercises\n",
    "\n",
    "### Algorithum Workbench\n",
    "\n",
    "#### Question 4"
   ]
  },
  {
   "cell_type": "code",
   "execution_count": null,
   "id": "da31f6d2",
   "metadata": {},
   "outputs": [],
   "source": [
    "# The if-else statment is aligned at the same vertical position starting at the far left.\n",
    "# The statments within are indented with a tab (must be indented consistently).\n",
    "# Named constants to represent grades in upper case\n",
    "if score >= A_SCORE:\n",
    "    print('Your grade is A.')\n",
    "else:\n",
    "    if score >= B_SCORE:\n",
    "        print('Your grade is B.')\n",
    "    else:\n",
    "        if score >= C_SCORE:\n",
    "            print('Your grade is C.')\n",
    "        else:\n",
    "            if score >= D_SCORE:\n",
    "                print('Your grade is D.')\n",
    "            else:\n",
    "                print('Your grade is F.')"
   ]
  },
  {
   "cell_type": "markdown",
   "id": "2f879191",
   "metadata": {},
   "source": [
    "#### Question 5"
   ]
  },
  {
   "cell_type": "code",
   "execution_count": 5,
   "id": "95a9f9e3",
   "metadata": {},
   "outputs": [
    {
     "name": "stdout",
     "output_type": "stream",
     "text": [
      "20\n"
     ]
    }
   ],
   "source": [
    "#testing\n",
    "amount1 = 20\n",
    "amount2 = 10\n",
    "# The code will display the greater amount only when certain conditions are true.\n",
    "# The two conditions that need to be true are done by using a compound boolean expression evaluating the two conditions\n",
    "# When the compound expression evaluates to true, it will then evaluate which amount is larger and print that amount.\n",
    "if amount1 > 10 and amount2 < 100:\n",
    "    if amount1 > amount2:\n",
    "        print(amount1)\n",
    "    else:\n",
    "        print(amount2)"
   ]
  },
  {
   "cell_type": "markdown",
   "id": "6b020add",
   "metadata": {},
   "source": [
    "### Programming Exercises\n",
    "\n",
    "#### Question 1 - Day of the Week"
   ]
  },
  {
   "cell_type": "code",
   "execution_count": 18,
   "id": "baa08174",
   "metadata": {},
   "outputs": [
    {
     "name": "stdout",
     "output_type": "stream",
     "text": [
      "Enter a number between 1 and 7. The program will display the corresponding day of the week: 8\n",
      "You entered 8 which is outside the range of 1 through 7\n"
     ]
    }
   ],
   "source": [
    "# Prompt user for a number 1-7 and store as integer\n",
    "# Conditionally evaluate the number against the range 1 through 7, and print the corresponding day of the week\n",
    "# If the number is outside the range, display an error message in the else statement\n",
    "weekNumber = int(input('Enter a number between 1 and 7. The program will display the corresponding day of the week: '))\n",
    "if weekNumber == 1:\n",
    "    print(\"Monday\")\n",
    "elif weekNumber == 2:\n",
    "    print(\"Tuesday\")\n",
    "elif weekNumber == 3:\n",
    "    print(\"Wednesday\")\n",
    "elif weekNumber == 4:\n",
    "    print(\"Thursday\")\n",
    "elif weekNumber == 5:\n",
    "    print(\"Friday\")\n",
    "elif weekNumber == 6:\n",
    "    print(\"Saturday\")    \n",
    "elif weekNumber == 7:\n",
    "    print(\"Sunday\")\n",
    "else:\n",
    "    print(\"You entered \" + str(weekNumber) + \" which is outside the range of 1 through 7\")    "
   ]
  },
  {
   "cell_type": "markdown",
   "id": "ad85384f",
   "metadata": {},
   "source": [
    "#### Question - Mass and Weight"
   ]
  },
  {
   "cell_type": "code",
   "execution_count": 26,
   "id": "84b514f9",
   "metadata": {},
   "outputs": [
    {
     "name": "stdout",
     "output_type": "stream",
     "text": [
      "Enter the mass in kilograms of the object to calculate the weight: 10\n",
      "The weight is 98.0 which is too light\n"
     ]
    }
   ],
   "source": [
    "mass = float(input('Enter the mass in kilograms of the object to calculate the weight: '))\n",
    "weight = mass * 9.8\n",
    "if weight > 500:\n",
    "    print(\"The weight is \" + str(weight) + \" which is too heavy\")\n",
    "elif weight < 100:\n",
    "    print(\"The weight is \" + str(weight) + \" which is too light\")\n",
    "else:\n",
    "    print(\"The weight is \" + str(weight))"
   ]
  },
  {
   "cell_type": "code",
   "execution_count": null,
   "id": "e3a8a6c3",
   "metadata": {},
   "outputs": [],
   "source": []
  }
 ],
 "metadata": {
  "kernelspec": {
   "display_name": "Python 3 (ipykernel)",
   "language": "python",
   "name": "python3"
  },
  "language_info": {
   "codemirror_mode": {
    "name": "ipython",
    "version": 3
   },
   "file_extension": ".py",
   "mimetype": "text/x-python",
   "name": "python",
   "nbconvert_exporter": "python",
   "pygments_lexer": "ipython3",
   "version": "3.10.9"
  }
 },
 "nbformat": 4,
 "nbformat_minor": 5
}
