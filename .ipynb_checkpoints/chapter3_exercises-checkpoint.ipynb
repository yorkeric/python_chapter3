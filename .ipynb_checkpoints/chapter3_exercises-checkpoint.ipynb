{
 "cells": [
  {
   "cell_type": "markdown",
   "id": "09a0950a",
   "metadata": {},
   "source": [
    "## Chapter 3 - Exercises\n",
    "\n",
    "### Algorithum Workbench\n",
    "\n",
    "#### Question 4"
   ]
  },
  {
   "cell_type": "code",
   "execution_count": null,
   "id": "0bde0e71",
   "metadata": {},
   "outputs": [],
   "source": [
    "# The if-else statment is aligned at the same vertical position starting at the far left.\n",
    "# The statments within are indented with a tab (must be indented consistently).\n",
    "# Named constants to represent grades in upper case\n",
    "if score >= A_SCORE:\n",
    "    print('Your grade is A.')\n",
    "else:\n",
    "    if score >= B_SCORE:\n",
    "        print('Your grade is B.')\n",
    "    else:\n",
    "        if score >= C_SCORE:\n",
    "            print('Your grade is C.')\n",
    "        else:\n",
    "            if score >= D_SCORE:\n",
    "                print('Your grade is D.')\n",
    "            else:\n",
    "                print('Your grade is F.')"
   ]
  },
  {
   "cell_type": "markdown",
   "id": "4bb1da5a",
   "metadata": {},
   "source": [
    "#### Question 5"
   ]
  },
  {
   "cell_type": "code",
   "execution_count": 5,
   "id": "3585fa21",
   "metadata": {},
   "outputs": [
    {
     "name": "stdout",
     "output_type": "stream",
     "text": [
      "20\n"
     ]
    }
   ],
   "source": [
    "#testing\n",
    "amount1 = 20\n",
    "amount2 = 10\n",
    "# The code will display the greater amount only when certain conditions are true.\n",
    "# The two conditions that need to be true are done by using a compound boolean expression evaluating the two conditions\n",
    "# When the compound expression evaluates to true, it will then evaluate which amount is larger and print that amount.\n",
    "if amount1 > 10 and amount2 < 100:\n",
    "    if amount1 > amount2:\n",
    "        print(amount1)\n",
    "    else:\n",
    "        print(amount2)"
   ]
  },
  {
   "cell_type": "markdown",
   "id": "101508ae",
   "metadata": {},
   "source": [
    "### Programming Exercises\n",
    "\n",
    "#### Question 1 - Day of the Week"
   ]
  },
  {
   "cell_type": "code",
   "execution_count": 18,
   "id": "60c97f6e",
   "metadata": {},
   "outputs": [
    {
     "name": "stdout",
     "output_type": "stream",
     "text": [
      "Enter a number between 1 and 7. The program will display the corresponding day of the week: 8\n",
      "You entered 8 which is outside the range of 1 through 7\n"
     ]
    }
   ],
   "source": [
    "# Prompt user for a number 1-7 and store as integer\n",
    "# Conditionally evaluate the number against the range 1 through 7, and print the corresponding day of the week\n",
    "# If the number is outside the range, display an error message in the else statement\n",
    "weekNumber = int(input('Enter a number between 1 and 7. The program will display the corresponding day of the week: '))\n",
    "if weekNumber == 1:\n",
    "    print(\"Monday\")\n",
    "elif weekNumber == 2:\n",
    "    print(\"Tuesday\")\n",
    "elif weekNumber == 3:\n",
    "    print(\"Wednesday\")\n",
    "elif weekNumber == 4:\n",
    "    print(\"Thursday\")\n",
    "elif weekNumber == 5:\n",
    "    print(\"Friday\")\n",
    "elif weekNumber == 6:\n",
    "    print(\"Saturday\")    \n",
    "elif weekNumber == 7:\n",
    "    print(\"Sunday\")\n",
    "else:\n",
    "    print(\"You entered \" + str(weekNumber) + \" which is outside the range of 1 through 7\")    "
   ]
  },
  {
   "cell_type": "markdown",
   "id": "b8e5ddbd",
   "metadata": {},
   "source": [
    "#### Question 5 - Mass and Weight"
   ]
  },
  {
   "cell_type": "code",
   "execution_count": 26,
   "id": "ff65a7f7",
   "metadata": {},
   "outputs": [
    {
     "name": "stdout",
     "output_type": "stream",
     "text": [
      "Enter the mass in kilograms of the object to calculate the weight: 10\n",
      "The weight is 98.0 which is too light\n"
     ]
    }
   ],
   "source": [
    "# Prompt user to enter the mass and store as a float to allow decimal places (e.g. 50.35)\n",
    "# Use the mass to calculte the weight using the formula (weight = mass x 9.8)\n",
    "# Conditionally evaluate the weight and print when it is too heavy or too light\n",
    "# Print the weight without a message of too heavy or too light when does not meet those criteria\n",
    "mass = float(input('Enter the mass in kilograms of the object to calculate the weight: '))\n",
    "weight = mass * 9.8\n",
    "if weight > 500:\n",
    "    print(\"The weight is \" + str(weight) + \" which is too heavy\")\n",
    "elif weight < 100:\n",
    "    print(\"The weight is \" + str(weight) + \" which is too light\")\n",
    "else:\n",
    "    print(\"The weight is \" + str(weight))"
   ]
  },
  {
   "cell_type": "markdown",
   "id": "efe13c42",
   "metadata": {},
   "source": [
    "#### Question 15 - Time Calculator"
   ]
  },
  {
   "cell_type": "code",
   "execution_count": 55,
   "id": "d37ff33c",
   "metadata": {},
   "outputs": [
    {
     "name": "stdout",
     "output_type": "stream",
     "text": [
      "Enter the number of seconds to convert: 8600\n",
      "The total is 2hours, 23minutes, and 20 seconds\n"
     ]
    }
   ],
   "source": [
    "# Prompt user to enter the number of seconds. Convert to days, hours, minutes, seconds (when applicable)\n",
    "seconds = int(input('Enter the number of seconds to convert: '))\n",
    "if seconds < 60:\n",
    "    print(\"The total is \" + str(seconds) + \" seconds\")\n",
    "# There are 60 seconds in a minutes so number of minutes is seconds / 60\n",
    "# The seconds are the remainder from seconds / 60 using the % operator\n",
    "# This can be done when the seconds is greater then a minute (60 seconds) and less than an hour (3600 seconds)\n",
    "if seconds > 60 and seconds < 3600:\n",
    "    minutes = seconds//60\n",
    "    seconds = seconds % 60\n",
    "    print(\"The total is \" + str(minutes) + \" minutes, and \" + str(seconds) + \" seconds\")   \n",
    "# There 3600 seconds in an hour and 86400 seconds in a day.  This calcuation is between at least an hour but less then a day\n",
    "# The hours is seconds divided by total seconds per hour\n",
    "# The minutes is remainder of seconds divided by total seconds per hour divided by total seconds per hour\n",
    "# The seconds remainder of seconds divided by total seconds per hour divided by total seconds per hour divided by total seconds per minute\n",
    "elif seconds >= 3600 and seconds < 86400:\n",
    "    hours = seconds//3600\n",
    "    minutes = seconds % 3600//60\n",
    "    seconds = seconds % 3600 % 60\n",
    "    print(\"The total is \" + str(hours) + \" hours, \" + str(minutes) + \" minutes, and \" + str(seconds) + \" seconds\")   \n",
    "# There 86400 seconds in a day and 3600 seconds in an hour. This calcuation is seconds greater then or equal to a day\n",
    "# The days is seconds divided by total seconds per day\n",
    "# The hours is remainder of seconds divided by total seconds per day divided by seconds per hour\n",
    "# The minutes is remainder of seconds divided by total seconds per day divided by total seconds per hour divided by total seconds per hour\n",
    "# The seconds is remainder of seconds divided by total seconds per day divided by total seconds per hour divided by total seconds per hour divided by seconds per minute\n",
    "elif seconds >= 86400:\n",
    "    days = seconds//86400\n",
    "    hours = seconds % 86400//3600\n",
    "    minutes = seconds % (86400/3600)//60\n",
    "    seconds = seconds % (86400/3600)//60/60\n",
    "    print(\"Total is \" + str(days) + \" days, \" + str(hours) + \" hours, \" + str(minutes) + \" minutes, and \" + str(seconds) + \" seconds\")   "
   ]
  },
  {
   "cell_type": "code",
   "execution_count": null,
   "id": "58e910b4",
   "metadata": {},
   "outputs": [],
   "source": []
  }
 ],
 "metadata": {
  "kernelspec": {
   "display_name": "Python 3 (ipykernel)",
   "language": "python",
   "name": "python3"
  },
  "language_info": {
   "codemirror_mode": {
    "name": "ipython",
    "version": 3
   },
   "file_extension": ".py",
   "mimetype": "text/x-python",
   "name": "python",
   "nbconvert_exporter": "python",
   "pygments_lexer": "ipython3",
   "version": "3.10.9"
  }
 },
 "nbformat": 4,
 "nbformat_minor": 5
}
