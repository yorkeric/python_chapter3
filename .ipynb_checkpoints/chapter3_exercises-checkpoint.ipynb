{
 "cells": [
  {
   "cell_type": "markdown",
   "id": "e580dd18",
   "metadata": {},
   "source": [
    "## Chapter 3 - Exercises\n",
    "\n",
    "### Algorithum Workbench\n",
    "\n",
    "#### Question 4"
   ]
  },
  {
   "cell_type": "code",
   "execution_count": 1,
   "id": "5d2342bc",
   "metadata": {},
   "outputs": [
    {
     "ename": "NameError",
     "evalue": "name 'score' is not defined",
     "output_type": "error",
     "traceback": [
      "\u001b[1;31m---------------------------------------------------------------------------\u001b[0m",
      "\u001b[1;31mNameError\u001b[0m                                 Traceback (most recent call last)",
      "Cell \u001b[1;32mIn[1], line 1\u001b[0m\n\u001b[1;32m----> 1\u001b[0m \u001b[38;5;28;01mif\u001b[39;00m \u001b[43mscore\u001b[49m \u001b[38;5;241m>\u001b[39m\u001b[38;5;241m=\u001b[39m A_SCORE:\n\u001b[0;32m      2\u001b[0m     \u001b[38;5;28mprint\u001b[39m(\u001b[38;5;124m'\u001b[39m\u001b[38;5;124mYour grade is A.\u001b[39m\u001b[38;5;124m'\u001b[39m)\n\u001b[0;32m      3\u001b[0m \u001b[38;5;28;01melse\u001b[39;00m:\n",
      "\u001b[1;31mNameError\u001b[0m: name 'score' is not defined"
     ]
    }
   ],
   "source": [
    "# The if-else statment is aligned at the same vertical position starting at the far left.\n",
    "# The statments within are indented with a tab (must be indented consistently).\n",
    "# Named constants to represent grades in upper case\n",
    "if score >= A_SCORE:\n",
    "    print('Your grade is A.')\n",
    "else:\n",
    "    if score >= B_SCORE:\n",
    "        print('Your grade is B.')\n",
    "    else:\n",
    "        if score >= C_SCORE:\n",
    "            print('Your grade is C.')\n",
    "        else:\n",
    "            if score >= D_SCORE:\n",
    "                print('Your grade is D.')\n",
    "            else:\n",
    "                print('Your grade is F.')"
   ]
  },
  {
   "cell_type": "markdown",
   "id": "d893add6",
   "metadata": {},
   "source": [
    "#### Question 5"
   ]
  },
  {
   "cell_type": "code",
   "execution_count": 5,
   "id": "e3f8f530",
   "metadata": {},
   "outputs": [
    {
     "name": "stdout",
     "output_type": "stream",
     "text": [
      "20\n"
     ]
    }
   ],
   "source": [
    "#testing\n",
    "amount1 = 20\n",
    "amount2 = 10\n",
    "# The code will display the greater amount only when certain conditions are true.\n",
    "# The two conditions that need to be true are done by using a compound boolean expression evaluating the two conditions\n",
    "# When the compound expression evaluates to true, it will then evaluate which amount is larger and print that amount.\n",
    "if amount1 > 10 and amount2 < 100:\n",
    "    if amount1 > amount2:\n",
    "        print(amount1)\n",
    "    else:\n",
    "        print(amount2)"
   ]
  },
  {
   "cell_type": "markdown",
   "id": "483ba473",
   "metadata": {},
   "source": [
    "### Programming Exercises\n",
    "\n",
    "#### Question 1 - Day of the Week"
   ]
  },
  {
   "cell_type": "code",
   "execution_count": 18,
   "id": "8e4062a9",
   "metadata": {},
   "outputs": [
    {
     "name": "stdout",
     "output_type": "stream",
     "text": [
      "Enter a number between 1 and 7. The program will display the corresponding day of the week: 8\n",
      "You entered 8 which is outside the range of 1 through 7\n"
     ]
    }
   ],
   "source": [
    "# Prompt user for a number 1-7 and store as integer\n",
    "weekNumber = int(input('Enter a number between 1 and 7. The program will display the corresponding day of the week: '))\n",
    "if weekNumber == 1:\n",
    "    print(\"Monday\")\n",
    "elif weekNumber == 2:\n",
    "    print(\"Tuesday\")\n",
    "elif weekNumber == 3:\n",
    "    print(\"Wednesday\")\n",
    "elif weekNumber == 4:\n",
    "    print(\"Thursday\")\n",
    "elif weekNumber == 5:\n",
    "    print(\"Friday\")\n",
    "elif weekNumber == 6:\n",
    "    print(\"Saturday\")    \n",
    "elif weekNumber == 7:\n",
    "    print(\"Sunday\")\n",
    "else:\n",
    "    print(\"You entered \" + str(weekNumber) + \" which is outside the range of 1 through 7\")    "
   ]
  },
  {
   "cell_type": "code",
   "execution_count": null,
   "id": "8add2443",
   "metadata": {},
   "outputs": [],
   "source": []
  }
 ],
 "metadata": {
  "kernelspec": {
   "display_name": "Python 3 (ipykernel)",
   "language": "python",
   "name": "python3"
  },
  "language_info": {
   "codemirror_mode": {
    "name": "ipython",
    "version": 3
   },
   "file_extension": ".py",
   "mimetype": "text/x-python",
   "name": "python",
   "nbconvert_exporter": "python",
   "pygments_lexer": "ipython3",
   "version": "3.10.9"
  }
 },
 "nbformat": 4,
 "nbformat_minor": 5
}
